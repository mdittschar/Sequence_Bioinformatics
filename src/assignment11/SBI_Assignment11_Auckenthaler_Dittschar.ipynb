{
 "cells": [
  {
   "cell_type": "markdown",
   "id": "d9ff7136",
   "metadata": {},
   "source": [
    "SBI Assignment 11\n",
    "Autors: Marina Dittschar und Clarissa Auckenthaler"
   ]
  },
  {
   "cell_type": "code",
   "execution_count": 15,
   "id": "96bd20ba",
   "metadata": {},
   "outputs": [],
   "source": [
    "import pandas as pd \n",
    "from sklearn import datasets, linear_model\n",
    "from sklearn import svm\n",
    "from sklearn.model_selection import cross_val_predict\n",
    "from sklearn.metrics import confusion_matrix, ConfusionMatrixDisplay\n",
    "from sklearn.metrics import roc_curve, auc\n",
    "from sklearn.metrics import RocCurveDisplay\n",
    "import matplotlib.pyplot as plt\n"
   ]
  },
  {
   "cell_type": "markdown",
   "id": "a7d01f86",
   "metadata": {},
   "source": [
    "Task 1: Load breast-cancer dataset and report on it"
   ]
  },
  {
   "cell_type": "code",
   "execution_count": 2,
   "id": "eb92a7e1",
   "metadata": {},
   "outputs": [],
   "source": [
    "#Load data\n",
    "data = pd.read_csv(\"breast-cancer-wisconsin.data\", sep=\",\",header=None,names=[\"ID\",\"Clump_Thickness\",\"Uniformity_Cell_Size\",\"Uniformity_Cell_Shape\", \"Marginal_Adhesion\",\n",
    "                                                                  \"Single_Epithelial_Cell_Siz\",\"Bare_Nuclei\",\"Bland_Chromatin\",\"Normal_Nucleoli\",\"Mitoses\",\"Class\"], na_values=[\"?\"]) "
   ]
  },
  {
   "cell_type": "code",
   "execution_count": 3,
   "id": "30459a9d",
   "metadata": {},
   "outputs": [
    {
     "data": {
      "text/html": [
       "<div>\n",
       "<style scoped>\n",
       "    .dataframe tbody tr th:only-of-type {\n",
       "        vertical-align: middle;\n",
       "    }\n",
       "\n",
       "    .dataframe tbody tr th {\n",
       "        vertical-align: top;\n",
       "    }\n",
       "\n",
       "    .dataframe thead th {\n",
       "        text-align: right;\n",
       "    }\n",
       "</style>\n",
       "<table border=\"1\" class=\"dataframe\">\n",
       "  <thead>\n",
       "    <tr style=\"text-align: right;\">\n",
       "      <th></th>\n",
       "      <th>ID</th>\n",
       "      <th>Clump_Thickness</th>\n",
       "      <th>Uniformity_Cell_Size</th>\n",
       "      <th>Uniformity_Cell_Shape</th>\n",
       "      <th>Marginal_Adhesion</th>\n",
       "      <th>Single_Epithelial_Cell_Siz</th>\n",
       "      <th>Bare_Nuclei</th>\n",
       "      <th>Bland_Chromatin</th>\n",
       "      <th>Normal_Nucleoli</th>\n",
       "      <th>Mitoses</th>\n",
       "      <th>Class</th>\n",
       "    </tr>\n",
       "  </thead>\n",
       "  <tbody>\n",
       "    <tr>\n",
       "      <th>0</th>\n",
       "      <td>1000025</td>\n",
       "      <td>5</td>\n",
       "      <td>1</td>\n",
       "      <td>1</td>\n",
       "      <td>1</td>\n",
       "      <td>2</td>\n",
       "      <td>1.0</td>\n",
       "      <td>3</td>\n",
       "      <td>1</td>\n",
       "      <td>1</td>\n",
       "      <td>2</td>\n",
       "    </tr>\n",
       "    <tr>\n",
       "      <th>1</th>\n",
       "      <td>1002945</td>\n",
       "      <td>5</td>\n",
       "      <td>4</td>\n",
       "      <td>4</td>\n",
       "      <td>5</td>\n",
       "      <td>7</td>\n",
       "      <td>10.0</td>\n",
       "      <td>3</td>\n",
       "      <td>2</td>\n",
       "      <td>1</td>\n",
       "      <td>2</td>\n",
       "    </tr>\n",
       "    <tr>\n",
       "      <th>2</th>\n",
       "      <td>1015425</td>\n",
       "      <td>3</td>\n",
       "      <td>1</td>\n",
       "      <td>1</td>\n",
       "      <td>1</td>\n",
       "      <td>2</td>\n",
       "      <td>2.0</td>\n",
       "      <td>3</td>\n",
       "      <td>1</td>\n",
       "      <td>1</td>\n",
       "      <td>2</td>\n",
       "    </tr>\n",
       "    <tr>\n",
       "      <th>3</th>\n",
       "      <td>1016277</td>\n",
       "      <td>6</td>\n",
       "      <td>8</td>\n",
       "      <td>8</td>\n",
       "      <td>1</td>\n",
       "      <td>3</td>\n",
       "      <td>4.0</td>\n",
       "      <td>3</td>\n",
       "      <td>7</td>\n",
       "      <td>1</td>\n",
       "      <td>2</td>\n",
       "    </tr>\n",
       "    <tr>\n",
       "      <th>4</th>\n",
       "      <td>1017023</td>\n",
       "      <td>4</td>\n",
       "      <td>1</td>\n",
       "      <td>1</td>\n",
       "      <td>3</td>\n",
       "      <td>2</td>\n",
       "      <td>1.0</td>\n",
       "      <td>3</td>\n",
       "      <td>1</td>\n",
       "      <td>1</td>\n",
       "      <td>2</td>\n",
       "    </tr>\n",
       "    <tr>\n",
       "      <th>...</th>\n",
       "      <td>...</td>\n",
       "      <td>...</td>\n",
       "      <td>...</td>\n",
       "      <td>...</td>\n",
       "      <td>...</td>\n",
       "      <td>...</td>\n",
       "      <td>...</td>\n",
       "      <td>...</td>\n",
       "      <td>...</td>\n",
       "      <td>...</td>\n",
       "      <td>...</td>\n",
       "    </tr>\n",
       "    <tr>\n",
       "      <th>694</th>\n",
       "      <td>776715</td>\n",
       "      <td>3</td>\n",
       "      <td>1</td>\n",
       "      <td>1</td>\n",
       "      <td>1</td>\n",
       "      <td>3</td>\n",
       "      <td>2.0</td>\n",
       "      <td>1</td>\n",
       "      <td>1</td>\n",
       "      <td>1</td>\n",
       "      <td>2</td>\n",
       "    </tr>\n",
       "    <tr>\n",
       "      <th>695</th>\n",
       "      <td>841769</td>\n",
       "      <td>2</td>\n",
       "      <td>1</td>\n",
       "      <td>1</td>\n",
       "      <td>1</td>\n",
       "      <td>2</td>\n",
       "      <td>1.0</td>\n",
       "      <td>1</td>\n",
       "      <td>1</td>\n",
       "      <td>1</td>\n",
       "      <td>2</td>\n",
       "    </tr>\n",
       "    <tr>\n",
       "      <th>696</th>\n",
       "      <td>888820</td>\n",
       "      <td>5</td>\n",
       "      <td>10</td>\n",
       "      <td>10</td>\n",
       "      <td>3</td>\n",
       "      <td>7</td>\n",
       "      <td>3.0</td>\n",
       "      <td>8</td>\n",
       "      <td>10</td>\n",
       "      <td>2</td>\n",
       "      <td>4</td>\n",
       "    </tr>\n",
       "    <tr>\n",
       "      <th>697</th>\n",
       "      <td>897471</td>\n",
       "      <td>4</td>\n",
       "      <td>8</td>\n",
       "      <td>6</td>\n",
       "      <td>4</td>\n",
       "      <td>3</td>\n",
       "      <td>4.0</td>\n",
       "      <td>10</td>\n",
       "      <td>6</td>\n",
       "      <td>1</td>\n",
       "      <td>4</td>\n",
       "    </tr>\n",
       "    <tr>\n",
       "      <th>698</th>\n",
       "      <td>897471</td>\n",
       "      <td>4</td>\n",
       "      <td>8</td>\n",
       "      <td>8</td>\n",
       "      <td>5</td>\n",
       "      <td>4</td>\n",
       "      <td>5.0</td>\n",
       "      <td>10</td>\n",
       "      <td>4</td>\n",
       "      <td>1</td>\n",
       "      <td>4</td>\n",
       "    </tr>\n",
       "  </tbody>\n",
       "</table>\n",
       "<p>699 rows × 11 columns</p>\n",
       "</div>"
      ],
      "text/plain": [
       "          ID  Clump_Thickness  Uniformity_Cell_Size  Uniformity_Cell_Shape  \\\n",
       "0    1000025                5                     1                      1   \n",
       "1    1002945                5                     4                      4   \n",
       "2    1015425                3                     1                      1   \n",
       "3    1016277                6                     8                      8   \n",
       "4    1017023                4                     1                      1   \n",
       "..       ...              ...                   ...                    ...   \n",
       "694   776715                3                     1                      1   \n",
       "695   841769                2                     1                      1   \n",
       "696   888820                5                    10                     10   \n",
       "697   897471                4                     8                      6   \n",
       "698   897471                4                     8                      8   \n",
       "\n",
       "     Marginal_Adhesion  Single_Epithelial_Cell_Siz  Bare_Nuclei  \\\n",
       "0                    1                           2          1.0   \n",
       "1                    5                           7         10.0   \n",
       "2                    1                           2          2.0   \n",
       "3                    1                           3          4.0   \n",
       "4                    3                           2          1.0   \n",
       "..                 ...                         ...          ...   \n",
       "694                  1                           3          2.0   \n",
       "695                  1                           2          1.0   \n",
       "696                  3                           7          3.0   \n",
       "697                  4                           3          4.0   \n",
       "698                  5                           4          5.0   \n",
       "\n",
       "     Bland_Chromatin  Normal_Nucleoli  Mitoses  Class  \n",
       "0                  3                1        1      2  \n",
       "1                  3                2        1      2  \n",
       "2                  3                1        1      2  \n",
       "3                  3                7        1      2  \n",
       "4                  3                1        1      2  \n",
       "..               ...              ...      ...    ...  \n",
       "694                1                1        1      2  \n",
       "695                1                1        1      2  \n",
       "696                8               10        2      4  \n",
       "697               10                6        1      4  \n",
       "698               10                4        1      4  \n",
       "\n",
       "[699 rows x 11 columns]"
      ]
     },
     "execution_count": 3,
     "metadata": {},
     "output_type": "execute_result"
    }
   ],
   "source": [
    "data"
   ]
  },
  {
   "cell_type": "code",
   "execution_count": 4,
   "id": "6a51a81b",
   "metadata": {},
   "outputs": [
    {
     "data": {
      "text/html": [
       "<div>\n",
       "<style scoped>\n",
       "    .dataframe tbody tr th:only-of-type {\n",
       "        vertical-align: middle;\n",
       "    }\n",
       "\n",
       "    .dataframe tbody tr th {\n",
       "        vertical-align: top;\n",
       "    }\n",
       "\n",
       "    .dataframe thead th {\n",
       "        text-align: right;\n",
       "    }\n",
       "</style>\n",
       "<table border=\"1\" class=\"dataframe\">\n",
       "  <thead>\n",
       "    <tr style=\"text-align: right;\">\n",
       "      <th></th>\n",
       "      <th>ID</th>\n",
       "      <th>Clump_Thickness</th>\n",
       "      <th>Uniformity_Cell_Size</th>\n",
       "      <th>Uniformity_Cell_Shape</th>\n",
       "      <th>Marginal_Adhesion</th>\n",
       "      <th>Single_Epithelial_Cell_Siz</th>\n",
       "      <th>Bare_Nuclei</th>\n",
       "      <th>Bland_Chromatin</th>\n",
       "      <th>Normal_Nucleoli</th>\n",
       "      <th>Mitoses</th>\n",
       "      <th>Class</th>\n",
       "    </tr>\n",
       "  </thead>\n",
       "  <tbody>\n",
       "    <tr>\n",
       "      <th>count</th>\n",
       "      <td>6.990000e+02</td>\n",
       "      <td>699.000000</td>\n",
       "      <td>699.000000</td>\n",
       "      <td>699.000000</td>\n",
       "      <td>699.000000</td>\n",
       "      <td>699.000000</td>\n",
       "      <td>683.000000</td>\n",
       "      <td>699.000000</td>\n",
       "      <td>699.000000</td>\n",
       "      <td>699.000000</td>\n",
       "      <td>699.000000</td>\n",
       "    </tr>\n",
       "    <tr>\n",
       "      <th>mean</th>\n",
       "      <td>1.071704e+06</td>\n",
       "      <td>4.417740</td>\n",
       "      <td>3.134478</td>\n",
       "      <td>3.207439</td>\n",
       "      <td>2.806867</td>\n",
       "      <td>3.216023</td>\n",
       "      <td>3.544656</td>\n",
       "      <td>3.437768</td>\n",
       "      <td>2.866953</td>\n",
       "      <td>1.589413</td>\n",
       "      <td>2.689557</td>\n",
       "    </tr>\n",
       "    <tr>\n",
       "      <th>std</th>\n",
       "      <td>6.170957e+05</td>\n",
       "      <td>2.815741</td>\n",
       "      <td>3.051459</td>\n",
       "      <td>2.971913</td>\n",
       "      <td>2.855379</td>\n",
       "      <td>2.214300</td>\n",
       "      <td>3.643857</td>\n",
       "      <td>2.438364</td>\n",
       "      <td>3.053634</td>\n",
       "      <td>1.715078</td>\n",
       "      <td>0.951273</td>\n",
       "    </tr>\n",
       "    <tr>\n",
       "      <th>min</th>\n",
       "      <td>6.163400e+04</td>\n",
       "      <td>1.000000</td>\n",
       "      <td>1.000000</td>\n",
       "      <td>1.000000</td>\n",
       "      <td>1.000000</td>\n",
       "      <td>1.000000</td>\n",
       "      <td>1.000000</td>\n",
       "      <td>1.000000</td>\n",
       "      <td>1.000000</td>\n",
       "      <td>1.000000</td>\n",
       "      <td>2.000000</td>\n",
       "    </tr>\n",
       "    <tr>\n",
       "      <th>25%</th>\n",
       "      <td>8.706885e+05</td>\n",
       "      <td>2.000000</td>\n",
       "      <td>1.000000</td>\n",
       "      <td>1.000000</td>\n",
       "      <td>1.000000</td>\n",
       "      <td>2.000000</td>\n",
       "      <td>1.000000</td>\n",
       "      <td>2.000000</td>\n",
       "      <td>1.000000</td>\n",
       "      <td>1.000000</td>\n",
       "      <td>2.000000</td>\n",
       "    </tr>\n",
       "    <tr>\n",
       "      <th>50%</th>\n",
       "      <td>1.171710e+06</td>\n",
       "      <td>4.000000</td>\n",
       "      <td>1.000000</td>\n",
       "      <td>1.000000</td>\n",
       "      <td>1.000000</td>\n",
       "      <td>2.000000</td>\n",
       "      <td>1.000000</td>\n",
       "      <td>3.000000</td>\n",
       "      <td>1.000000</td>\n",
       "      <td>1.000000</td>\n",
       "      <td>2.000000</td>\n",
       "    </tr>\n",
       "    <tr>\n",
       "      <th>75%</th>\n",
       "      <td>1.238298e+06</td>\n",
       "      <td>6.000000</td>\n",
       "      <td>5.000000</td>\n",
       "      <td>5.000000</td>\n",
       "      <td>4.000000</td>\n",
       "      <td>4.000000</td>\n",
       "      <td>6.000000</td>\n",
       "      <td>5.000000</td>\n",
       "      <td>4.000000</td>\n",
       "      <td>1.000000</td>\n",
       "      <td>4.000000</td>\n",
       "    </tr>\n",
       "    <tr>\n",
       "      <th>max</th>\n",
       "      <td>1.345435e+07</td>\n",
       "      <td>10.000000</td>\n",
       "      <td>10.000000</td>\n",
       "      <td>10.000000</td>\n",
       "      <td>10.000000</td>\n",
       "      <td>10.000000</td>\n",
       "      <td>10.000000</td>\n",
       "      <td>10.000000</td>\n",
       "      <td>10.000000</td>\n",
       "      <td>10.000000</td>\n",
       "      <td>4.000000</td>\n",
       "    </tr>\n",
       "  </tbody>\n",
       "</table>\n",
       "</div>"
      ],
      "text/plain": [
       "                 ID  Clump_Thickness  Uniformity_Cell_Size  \\\n",
       "count  6.990000e+02       699.000000            699.000000   \n",
       "mean   1.071704e+06         4.417740              3.134478   \n",
       "std    6.170957e+05         2.815741              3.051459   \n",
       "min    6.163400e+04         1.000000              1.000000   \n",
       "25%    8.706885e+05         2.000000              1.000000   \n",
       "50%    1.171710e+06         4.000000              1.000000   \n",
       "75%    1.238298e+06         6.000000              5.000000   \n",
       "max    1.345435e+07        10.000000             10.000000   \n",
       "\n",
       "       Uniformity_Cell_Shape  Marginal_Adhesion  Single_Epithelial_Cell_Siz  \\\n",
       "count             699.000000         699.000000                  699.000000   \n",
       "mean                3.207439           2.806867                    3.216023   \n",
       "std                 2.971913           2.855379                    2.214300   \n",
       "min                 1.000000           1.000000                    1.000000   \n",
       "25%                 1.000000           1.000000                    2.000000   \n",
       "50%                 1.000000           1.000000                    2.000000   \n",
       "75%                 5.000000           4.000000                    4.000000   \n",
       "max                10.000000          10.000000                   10.000000   \n",
       "\n",
       "       Bare_Nuclei  Bland_Chromatin  Normal_Nucleoli     Mitoses       Class  \n",
       "count   683.000000       699.000000       699.000000  699.000000  699.000000  \n",
       "mean      3.544656         3.437768         2.866953    1.589413    2.689557  \n",
       "std       3.643857         2.438364         3.053634    1.715078    0.951273  \n",
       "min       1.000000         1.000000         1.000000    1.000000    2.000000  \n",
       "25%       1.000000         2.000000         1.000000    1.000000    2.000000  \n",
       "50%       1.000000         3.000000         1.000000    1.000000    2.000000  \n",
       "75%       6.000000         5.000000         4.000000    1.000000    4.000000  \n",
       "max      10.000000        10.000000        10.000000   10.000000    4.000000  "
      ]
     },
     "execution_count": 4,
     "metadata": {},
     "output_type": "execute_result"
    }
   ],
   "source": [
    "data = data.apply(pd.to_numeric)\n",
    "data.describe()"
   ]
  },
  {
   "cell_type": "code",
   "execution_count": 5,
   "id": "d6fd7b34",
   "metadata": {},
   "outputs": [],
   "source": [
    "data_no_NaN= data.dropna()"
   ]
  },
  {
   "cell_type": "markdown",
   "id": "bea0f492",
   "metadata": {},
   "source": [
    "Task 2: Train a SVM to predict the class of each sample"
   ]
  },
  {
   "cell_type": "code",
   "execution_count": 6,
   "id": "99e0eb9d",
   "metadata": {
    "scrolled": true
   },
   "outputs": [
    {
     "data": {
      "text/plain": [
       "<sklearn.metrics._plot.confusion_matrix.ConfusionMatrixDisplay at 0x1574c7954f0>"
      ]
     },
     "execution_count": 6,
     "metadata": {},
     "output_type": "execute_result"
    },
    {
     "data": {
      "image/png": "[encoded data removed]",
      "text/plain": [
       "<Figure size 432x288 with 2 Axes>"
      ]
     },
     "metadata": {
      "needs_background": "light"
     },
     "output_type": "display_data"
    }
   ],
   "source": [
    "X = data_no_NaN.loc[:, ~data.columns.isin(['ID', 'Class'])]\n",
    "y = data_no_NaN.Class\n",
    "C = 1 \n",
    "clf = svm.SVC(kernel='linear', C=C, random_state=1)\n",
    "y_pred = cross_val_predict(clf, X, y, cv=5)\n",
    "conf_mat = confusion_matrix(y, y_pred)\n",
    "disp = ConfusionMatrixDisplay(confusion_matrix=conf_mat, display_labels= [\"2\",\"4\"])\n",
    "disp.plot()"
   ]
  },
  {
   "cell_type": "markdown",
   "id": "8674b26d",
   "metadata": {},
   "source": [
    "Task 3:  ROC curves"
   ]
  },
  {
   "cell_type": "code",
   "execution_count": 7,
   "id": "ecc54bc9",
   "metadata": {},
   "outputs": [],
   "source": [
    "# Data of Class is converted into Binary Data\n",
    "df_one = pd.get_dummies(data_no_NaN[\"Class\"])\n",
    "# Binary Data is Concatenated into df\n",
    "df_two = pd.concat((df_one, data_no_NaN), axis=1)\n",
    "df_two = df_two.drop([\"Class\"], axis=1)\n",
    "df_two = df_two.drop([2], axis=1)\n",
    "# Rename the Column\n",
    "df_binary_Class = df_two.rename(columns={4: \"Class\"})\n",
    "X = df_binary_Class.loc[:, ~data.columns.isin(['ID', 'Class'])]\n",
    "y = df_binary_Class.Class"
   ]
  },
  {
   "cell_type": "code",
   "execution_count": 8,
   "id": "ba322d14",
   "metadata": {},
   "outputs": [
    {
     "data": {
      "text/plain": [
       "[<matplotlib.lines.Line2D at 0x15752660730>]"
      ]
     },
     "execution_count": 8,
     "metadata": {},
     "output_type": "execute_result"
    },
    {
     "data": {
      "image/png": "[encoded data removed]",
      "text/plain": [
       "<Figure size 432x288 with 1 Axes>"
      ]
     },
     "metadata": {
      "needs_background": "light"
     },
     "output_type": "display_data"
    }
   ],
   "source": [
    "#linear kernel\n",
    "clf_lin = svm.SVC(kernel='rbf', C=C, random_state=1, probability=True)\n",
    "clf_lin.fit(X,y)\n",
    "y_pred_lin = clf_lin.predict_proba(X)\n",
    "lin_fpr, lin_tpr, lin_thresholds = roc_curve(y, y_pred_lin[:,1])\n",
    "plt.plot(lin_fpr, lin_tpr)"
   ]
  },
  {
   "cell_type": "code",
   "execution_count": 9,
   "id": "4c7041a2",
   "metadata": {
    "scrolled": true
   },
   "outputs": [
    {
     "data": {
      "text/plain": [
       "[<matplotlib.lines.Line2D at 0x157526c7250>]"
      ]
     },
     "execution_count": 9,
     "metadata": {},
     "output_type": "execute_result"
    },
    {
     "data": {
      "image/png": "[encoded data removed]",
      "text/plain": [
       "<Figure size 432x288 with 1 Axes>"
      ]
     },
     "metadata": {
      "needs_background": "light"
     },
     "output_type": "display_data"
    }
   ],
   "source": [
    "#gaussian kernel\n",
    "clf_rad = svm.SVC(kernel='rbf', C=C, random_state=1, probability=True)\n",
    "clf_rad.fit(X,y)\n",
    "y_pred = clf_rad.predict_proba(X)\n",
    "rbf_fpr, rbf_tpr, rbf_thresholds = roc_curve(y, y_pred[:,1])\n",
    "plt.plot(rbf_fpr, rbf_tpr)"
   ]
  },
  {
   "cell_type": "code",
   "execution_count": 10,
   "id": "9d5f9da0",
   "metadata": {},
   "outputs": [
    {
     "data": {
      "text/plain": [
       "[<matplotlib.lines.Line2D at 0x15752718b20>]"
      ]
     },
     "execution_count": 10,
     "metadata": {},
     "output_type": "execute_result"
    },
    {
     "data": {
      "image/png": "[encoded data removed]",
      "text/plain": [
       "<Figure size 432x288 with 1 Axes>"
      ]
     },
     "metadata": {
      "needs_background": "light"
     },
     "output_type": "display_data"
    }
   ],
   "source": [
    "#sigmoid kernel\n",
    "clf_sig = svm.SVC(kernel='sigmoid', C=C, random_state=1, probability=True)\n",
    "clf_sig.fit(X,y)\n",
    "y_pred_sig = clf_sig.predict_proba(X)\n",
    "sig_fpr, sig_tpr, sig_thresholds = roc_curve(y, y_pred_sig[:,1])\n",
    "plt.plot(sig_fpr, sig_tpr)"
   ]
  },
  {
   "cell_type": "code",
   "execution_count": 30,
   "id": "f67dc531",
   "metadata": {
    "scrolled": true
   },
   "outputs": [
    {
     "data": {
      "text/plain": [
       "[<matplotlib.lines.Line2D at 0x15753d31430>]"
      ]
     },
     "execution_count": 30,
     "metadata": {},
     "output_type": "execute_result"
    },
    {
     "data": {
      "image/png": "[encoded data removed]",
      "text/plain": [
       "<Figure size 432x288 with 1 Axes>"
      ]
     },
     "metadata": {
      "needs_background": "light"
     },
     "output_type": "display_data"
    }
   ],
   "source": [
    "#polynomial kernel\n",
    "clf_poly = svm.SVC(kernel='poly', degree=2, C=C, random_state=1, probability=True)\n",
    "clf_poly.fit(X,y)\n",
    "y_pred_poly = clf_poly.predict_proba(X)\n",
    "poly_fpr, poly_tpr, poly_thresholds = roc_curve(y, y_pred_poly[:,1])\n",
    "plt.plot(poly_fpr, poly_tpr)"
   ]
  },
  {
   "cell_type": "code",
   "execution_count": 31,
   "id": "1e0c9616",
   "metadata": {},
   "outputs": [
    {
     "data": {
      "image/png": "[encoded data removed]",
      "text/plain": [
       "<Figure size 432x288 with 1 Axes>"
      ]
     },
     "metadata": {
      "needs_background": "light"
     },
     "output_type": "display_data"
    }
   ],
   "source": [
    "#plt.plot(rbf_fpr, rbf_tpr, label='radial kernel')\n",
    "plt.plot(sig_fpr, sig_tpr, label='sigmoid kernel')\n",
    "plt.plot(poly_fpr, poly_tpr, label='polynomial kernel')\n",
    "plt.plot(lin_fpr, lin_tpr, label='linear kernel')\n",
    "plt.title('Roc Curves')\n",
    "plt.ylabel('True positive rate')\n",
    "plt.xlabel('False positive rate')\n",
    "plt.legend()\n",
    "plt.show()"
   ]
  },
  {
   "cell_type": "code",
   "execution_count": 32,
   "id": "6b7085f6",
   "metadata": {},
   "outputs": [],
   "source": [
    "from sklearn.metrics import auc\n",
    "lin_auc = auc(lin_fpr,lin_fpr)\n",
    "rbf_auc = auc(rbf_fpr, rbf_tpr)\n",
    "sig_auc = auc(sig_fpr, sig_tpr)\n",
    "poly_auc = auc(poly_fpr, poly_tpr)"
   ]
  },
  {
   "cell_type": "code",
   "execution_count": 33,
   "id": "bac9cfdc",
   "metadata": {},
   "outputs": [
    {
     "name": "stdout",
     "output_type": "stream",
     "text": [
      "The AUC for the linear kernel is: 0.5\n",
      "The AUC for the radial kernel is: 0.5410117230200913\n",
      "The AUC for the sigmoid kernel is: 0.5181216781635192\n",
      "The AUC for the polynomial kernel is: 0.5905047306720946\n"
     ]
    }
   ],
   "source": [
    "print(f\"The AUC for the linear kernel is: {lin_auc}\")\n",
    "print(f\"The AUC for the radial kernel is: {rbf_auc}\")\n",
    "print(f\"The AUC for the sigmoid kernel is: {sig_auc}\")\n",
    "print(f\"The AUC for the polynomial kernel is: {poly_auc}\")"
   ]
  }
 ],
 "metadata": {
  "kernelspec": {
   "display_name": "Python 3",
   "language": "python",
   "name": "python3"
  },
  "language_info": {
   "codemirror_mode": {
    "name": "ipython",
    "version": 3
   },
   "file_extension": ".py",
   "mimetype": "text/x-python",
   "name": "python",
   "nbconvert_exporter": "python",
   "pygments_lexer": "ipython3",
   "version": "3.8.8"
  }
 },
 "nbformat": 4,
 "nbformat_minor": 5
}
